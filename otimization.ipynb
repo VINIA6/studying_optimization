{
 "cells": [
  {
   "cell_type": "markdown",
   "metadata": {},
   "source": [
    "# Progrmação Linear (PL)"
   ]
  },
  {
   "cell_type": "markdown",
   "metadata": {},
   "source": [
    "Em PL não possui variáveis inteiras, apenas variaveis continuas, e não existem operações não lineares sobre suasfunções  objetivos ou suas restrições. \n"
   ]
  },
  {
   "cell_type": "code",
   "execution_count": 9,
   "metadata": {},
   "outputs": [],
   "source": [
    "import ortools.linear_solver.pywraplp as otlp"
   ]
  },
  {
   "cell_type": "code",
   "execution_count": 12,
   "metadata": {},
   "outputs": [
    {
     "name": "stdout",
     "output_type": "stream",
     "text": [
      "Resultado Encontrado\n",
      "x= 4.0\n",
      "y= 6.0\n"
     ]
    }
   ],
   "source": [
    "solver = otlp.Solver('teste',otlp.Solver.GLOP_LINEAR_PROGRAMMING)\n",
    "#Definindo as variaveis \n",
    "x = solver.NumVar(0,10,'x')\n",
    "y = solver.NumVar(0,10,'y')\n",
    "#Definindo as restirções \n",
    "minha_restricao = -x+2*y\n",
    "solver.Add(minha_restricao <=8)\n",
    "solver.Add(2*x+y <=14)\n",
    "solver.Add(2*x-y <=10)\n",
    "\n",
    "solver.Maximize(x+y)\n",
    "results = solver.Solve()\n",
    "\n",
    "if results == otlp.Solver.OPTIMAL:\n",
    "    print('Resultado Encontrado')\n",
    "else:\n",
    "    print('Resultado não encontrado')\n",
    "\n",
    "print('x=', x.solution_value())\n",
    "\n",
    "print('y=', y.solution_value())"
   ]
  },
  {
   "cell_type": "code",
   "execution_count": null,
   "metadata": {},
   "outputs": [],
   "source": []
  }
 ],
 "metadata": {
  "kernelspec": {
   "display_name": "Python 3.9.13 ('venv': venv)",
   "language": "python",
   "name": "python3"
  },
  "language_info": {
   "codemirror_mode": {
    "name": "ipython",
    "version": 3
   },
   "file_extension": ".py",
   "mimetype": "text/x-python",
   "name": "python",
   "nbconvert_exporter": "python",
   "pygments_lexer": "ipython3",
   "version": "3.9.13"
  },
  "orig_nbformat": 4,
  "vscode": {
   "interpreter": {
    "hash": "b00540ab3586f2482034ce26344442c235a8ac56afc9532ed7e98909ec646566"
   }
  }
 },
 "nbformat": 4,
 "nbformat_minor": 2
}
